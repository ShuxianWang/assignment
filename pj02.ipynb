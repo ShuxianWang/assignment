{
 "cells": [
  {
   "cell_type": "code",
   "execution_count": 9,
   "metadata": {
    "collapsed": false
   },
   "outputs": [
    {
     "name": "stdout",
     "output_type": "stream",
     "text": [
      "pj02.py\r\n"
     ]
    }
   ],
   "source": [
    "%ls pj02.py"
   ]
  },
  {
   "cell_type": "code",
   "execution_count": 10,
   "metadata": {
    "collapsed": false
   },
   "outputs": [
    {
     "name": "stdout",
     "output_type": "stream",
     "text": [
      "\r\n",
      "#\r\n",
      "# Black-Scholes-Merton (1973) European Call & Put Valuation\r\n",
      "# 05_com/BSM_option_valuation.py\r\n",
      "#\r\n",
      "# (c) Dr. Yves J. Hilpisch\r\n",
      "# Derivatives Analytics with Python\r\n",
      "#\r\n",
      "import math\r\n",
      "import numpy as np\r\n",
      "import matplotlib.pyplot as plt\r\n",
      "import scipy.stats as ss\r\n",
      "\r\n",
      "def sigma_hatf(n, sigma):\r\n",
      "    sigma_hat = sigma / n * math.sqrt((n + 1) * (2 * n + 1)/6)\r\n",
      "    return sigma_hat\r\n",
      "\r\n",
      "def r_hatf(n, sigma, r):\r\n",
      "    sigma_hat = sigma_hatf(n, sigma)\r\n",
      "    r_hat = 1/2 * sigma_hat +(n + 1)/(2 * n)*(r - 1/2 * sigma ** 2)\r\n",
      "    return r_hat\r\n",
      "\r\n",
      "def Stf(S0, r, sigma, r_hat, sigma_hat, T):\r\n",
      "    St = S0 * math.exp((r_hat - 1/2 * sigma_hat ** 2)* T + sigma_hat * math.sqrt(T))\r\n",
      "    return St\r\n",
      "\r\n",
      "def d1f(S0, St, K, t, T, n, r, sigma, r_hat, sigma_hat):\r\n",
      "    ''' Black-Scholes-Merton d1 function.\r\n",
      "        Parameters see e.g. BSM_call_value function. '''\r\n",
      "    sigma_hat = sigma_hatf(n, sigma)\r\n",
      "    r_hat = r_hatf(n, sigma, r)\r\n",
      "    St = Stf(S0, r, sigma, r_hat, sigma_hat, T)\r\n",
      "    d1 = (math.log(St / K) + (r_hat + 1/2 * sigma_hat ** 2)\r\n",
      "          * (T - t)) / (sigma_hat * math.sqrt(T - t))\r\n",
      "    return d1\r\n",
      "\r\n",
      "\r\n",
      "#\r\n",
      "# Valuation Functions\r\n",
      "#\r\n",
      "\r\n",
      "def BSM_call_value(S0, St, K, t, T, n, r, sigma, r_hat, sigma_hat):\r\n",
      "    ''' Calculates Black-Scholes-Merton European call option value.\r\n",
      "    Parameters\r\n",
      "    ==========\r\n",
      "    St : float\r\n",
      "        stock/index level at time t\r\n",
      "    K : float\r\n",
      "        strike price\r\n",
      "    t : float\r\n",
      "        valuation date\r\n",
      "    T : float\r\n",
      "        date of maturity/time-to-maturity if t = 0; T > t\r\n",
      "    n : float\r\n",
      "        number of periods\r\n",
      "    r_hat : float\r\n",
      "        constant, risk-less short rate\r\n",
      "    sigma_hat : float\r\n",
      "        volatility\r\n",
      "    Returns\r\n",
      "    =======\r\n",
      "    call_value : float\r\n",
      "        European call present value at t\r\n",
      "    '''\r\n",
      "    sigma_hat = sigma_hatf(n, sigma)\r\n",
      "    r_hat = r_hatf(n, sigma, r)\r\n",
      "    St = Stf(S0, r, sigma, r_hat, sigma_hat, T)\r\n",
      "    d1 = d1f(S0, St, K, t, T, n, r, sigma, r_hat, sigma_hat)\r\n",
      "    d2 = d1 - sigma_hat * math.sqrt(T - t)\r\n",
      "    call_value = math.exp(r_hat * T - r *T)*(St * ss.norm.cdf(d1) - math.exp(-r_hat * (T - t)) * K * ss.norm.cdf(d2))\r\n",
      "    return call_value\r\n",
      "\r\n",
      "\r\n",
      "def BSM_put_value(S0, St, K, t, T, n, r, sigma, r_hat, sigma_hat):\r\n",
      "    ''' Calculates Black-Scholes-Merton European put option value.\r\n",
      "    Parameters\r\n",
      "    ==========\r\n",
      "    St : float\r\n",
      "        stock/index level at time t\r\n",
      "    K : float\r\n",
      "        strike price\r\n",
      "    t : float\r\n",
      "        valuation date\r\n",
      "    T : float\r\n",
      "        date of maturity/time-to-maturity if t = 0; T > t\r\n",
      "    r : float\r\n",
      "        constant, risk-less short rate\r\n",
      "    sigma : float\r\n",
      "        volatility\r\n",
      "    Returns\r\n",
      "    =======\r\n",
      "    put_value : float\r\n",
      "        European put present value at t\r\n",
      "    '''\r\n",
      "    sigma_hat = sigma_hatf(n, sigma)\r\n",
      "    r_hat = r_hatf(n, sigma, r)\r\n",
      "    St = Stf(S0, r, sigma, r_hat, sigma_hat, T)\r\n",
      "    put_value = BSM_call_value(St, K, t, T, n , r, r_hat, sigma_hat) \\\r\n",
      "        - St + math.exp(-r_hat * (T - t)) * K\r\n",
      "    return put_value\r\n",
      "\r\n",
      "\r\n",
      "\r\n"
     ]
    }
   ],
   "source": [
    "%cat pj02.py"
   ]
  },
  {
   "cell_type": "code",
   "execution_count": 11,
   "metadata": {
    "collapsed": false
   },
   "outputs": [
   ],
   "source": [
    "%run pj02.py"
   ]
  },
  {
   "cell_type": "code",
   "execution_count": 12,
   "metadata": {
    "collapsed": false
   },
   "outputs": [
   ],
   "source": [
    "sigma_hat = sigma_hatf(n, sigma)\n",
    "r_hat = r_hatf(n, sigma, r)\n",
    "St = Stf(S0, r, sigma, r_hat, sigma_hat, T)"
   ]
  },
  {
   "cell_type": "code",
   "execution_count": 13,
   "metadata": {
    "collapsed": false
   },
   "outputs": [
    {
     "name": "stdout",
     "output_type": "stream",
     "text": [
      "call_value is [21.78510661]\n"
     ]
    }
   ],
   "source": [
    "S0 = 100.0\n",
    "K = 110.0\n",
    "r = 0.0475\n",
    "sigma = 0.20\n",
    "T = np.array([1.0])\n",
    "Otype = 'C'\n",
    "n = 4\n",
    "#t = np.linspace(0., T, n+1)[1:]\n",
    "t = 0.25\n",
    "GAC =  BSM_call_value(S0, St, K, t, T, n, r, sigma, r_hat, sigma_hat)\n",
    "print(\"call_value is\",GAC)"
   ]
  },
  {
   "cell_type": "code",
   "execution_count": 0,
   "metadata": {
    "collapsed": false
   },
   "outputs": [
   ],
   "source": [
   ]
  }
 ],
 "metadata": {
  "kernelspec": {
   "display_name": "Python 3 (Anaconda 5)",
   "language": "python",
   "name": "anaconda5"
  },
  "language_info": {
   "codemirror_mode": {
    "name": "ipython",
    "version": 3
   },
   "file_extension": ".py",
   "mimetype": "text/x-python",
   "name": "python",
   "nbconvert_exporter": "python",
   "pygments_lexer": "ipython3",
   "version": "3.6.5"
  }
 },
 "nbformat": 4,
 "nbformat_minor": 0
}